{
  "nbformat": 4,
  "nbformat_minor": 0,
  "metadata": {
    "colab": {
      "name": "plotting_cd_spectra.ipynb",
      "provenance": [],
      "authorship_tag": "ABX9TyNJTaYJevKGm4QVIpG1im3Q",
      "include_colab_link": true
    },
    "kernelspec": {
      "name": "python3",
      "display_name": "Python 3"
    },
    "language_info": {
      "name": "python"
    }
  },
  "cells": [
    {
      "cell_type": "markdown",
      "metadata": {
        "id": "view-in-github",
        "colab_type": "text"
      },
      "source": [
        "<a href=\"https://colab.research.google.com/github/bposantos/circular_dichroism_spectra_deconvolution/blob/main/plotting_cd_spectra.ipynb\" target=\"_parent\"><img src=\"https://colab.research.google.com/assets/colab-badge.svg\" alt=\"Open In Colab\"/></a>"
      ]
    },
    {
      "cell_type": "markdown",
      "source": [
        "# Import pandas library"
      ],
      "metadata": {
        "id": "dlXlcOr8XOgu"
      }
    },
    {
      "cell_type": "code",
      "execution_count": null,
      "metadata": {
        "id": "6D_9rjYaXFeI"
      },
      "outputs": [],
      "source": [
        "import pandas as pd"
      ]
    },
    {
      "cell_type": "markdown",
      "source": [
        "# Open Google Drive inside Google Colab"
      ],
      "metadata": {
        "id": "jLJau_N2XU4j"
      }
    },
    {
      "cell_type": "code",
      "source": [
        "from google.colab import drive\n",
        "drive.mount(\"/content/drive\")"
      ],
      "metadata": {
        "id": "7YH1ixGNXcvK"
      },
      "execution_count": null,
      "outputs": []
    },
    {
      "cell_type": "markdown",
      "source": [
        "# Creating data-frames"
      ],
      "metadata": {
        "id": "9x1Dmh7XXe9o"
      }
    },
    {
      "cell_type": "code",
      "source": [
        "df1 = pd.read_csv(\"path/to/file/inside/google/drive.csv\", header=0)\n",
        "df2 = pd.read_csv(\"path/to/file/inside/google/drive.csv\", header=0)\n",
        "df3 = pd.read_csv(\"path/to/file/inside/google/drive.csv\", header=0)\n",
        "df4 = pd.read_csv(\"path/to/file/inside/google/drive.csv\", header=0)\n",
        "#create as many data frames as necessary. In this example, we have four spectras;"
      ],
      "metadata": {
        "id": "cIp1lQS6ePgE"
      },
      "execution_count": null,
      "outputs": []
    },
    {
      "cell_type": "markdown",
      "source": [
        "# Exploratory data analysis"
      ],
      "metadata": {
        "id": "iI60TLm-X41p"
      }
    },
    {
      "cell_type": "markdown",
      "source": [
        "## Importing libraries"
      ],
      "metadata": {
        "id": "7rX-f7jTX7y5"
      }
    },
    {
      "cell_type": "code",
      "source": [
        "import matplotlib.pyplot as plt\n",
        "import numpy as np\n",
        "import seaborn as sns\n",
        "import matplotlib as mpl"
      ],
      "metadata": {
        "id": "3XVWXL6hX9dn"
      },
      "execution_count": null,
      "outputs": []
    },
    {
      "cell_type": "markdown",
      "source": [
        "## Editing the figure panel\n",
        "\n",
        "### Example of panel with four spectras"
      ],
      "metadata": {
        "id": "fq0rxmXpYNPS"
      }
    },
    {
      "cell_type": "code",
      "source": [
        "#Setting style\n",
        "plt.style.use('seaborn-ticks')\n",
        "\n",
        "from scipy.signal import savgol_filter\n",
        "\n",
        "#Setting subplots\n",
        "fig = plt.figure(figsize=(8,11), dpi=300)\n",
        "ax1 = plt.subplot2grid((4,2), (0,0))\n",
        "ax2 = plt.subplot2grid((4,2), (0,1))\n",
        "ax3 = plt.subplot2grid((4,2), (1,0))\n",
        "ax4 = plt.subplot2grid((4,2), (1,1))\n",
        "\n",
        "#############################################################################################\n",
        "#ax1 definitions\n",
        "#############################################################################################\n",
        "\n",
        "for axis in ['top', 'bottom', 'left', 'right']:\n",
        "  ax1.spines[axis].set_linewidth(2) #border size\n",
        "\n",
        "ax1.axhline(linewidth=2, color='black')\n",
        "\n",
        "#smoothing aplication - Savitzky-Golay filter\n",
        "yhat1 = savgol_filter(df1['y0'], 51, 4)\n",
        "yhat2 = savgol_filter(df1['y1'], 51, 4)\n",
        "yhat3 = savgol_filter(df1['y2'], 51, 4)\n",
        "\n",
        "#axes X and Y data - in this example, three curves in each curve\n",
        "l1, =ax1.plot(df1['x'], yhat1, color='black', lw=1)\n",
        "l2, =ax1.plot(df1['x'], yhat2, color='darkred', lw=1)\n",
        "l3, =ax1.plot(df1['x'], yhat3, color='darkblue', lw=1)\n",
        "\n",
        "#axes parameters\n",
        "ax1.set_title('Title', fontsize = 18, weight='bold', pad=20) #title\n",
        "ax1.set_ylabel('Elipticidade x 10$^5$ (graus.cm$^2$/dmol)', fontsize=8, weight='bold') #y label\n",
        "ax1.set_xlabel('Comprimento de onda (nm)', fontsize=8, weight='bold') #x label\n",
        "ax1.set_xlim(190, 260) #x limits\n",
        "ax1.set_xticklabels([190,200,210,220,230,240,250,260],fontsize=10,weight='bold') #xticks manual labels - optional\n",
        "ax1.yaxis.set_major_locator(plt.MaxNLocator(7)) #setting the number of ticks in y label - optional\n",
        "ax1.set_yticklabels([-8.0,-6.0,-4.0,-2.0,0,2.0,4.0],fontsize=10,weight='bold') #xticks manual labels - optional\n",
        "\n",
        "ax1.legend([l1, l2, l3],\n",
        "           ['curve 1', 'curve 2', 'curve 3'],\n",
        "           loc='upper right', #captions location\n",
        "           frameon=False,\n",
        "           ncol=1,\n",
        "           shadow=False,\n",
        "           borderpad=1,\n",
        "           fontsize=8)\n",
        "\n",
        "#############################################################################################\n",
        "#ax2 definitions\n",
        "#############################################################################################\n",
        "\n",
        "for axis in ['top', 'bottom', 'left', 'right']:\n",
        "  ax2.spines[axis].set_linewidth(2)\n",
        "\n",
        "ax2.axhline(linewidth=2, color='black')\n",
        "\n",
        "#smoothing aplication - Savitzky-Golay filter\n",
        "yhat4 = savgol_filter(df2['y0'], 51, 4)\n",
        "yhat5 = savgol_filter(df2['y1'], 51, 4)\n",
        "yhat6 = savgol_filter(df2['y2'], 51, 4)\n",
        "\n",
        "#axes X and Y data - in this example, three curves in each curve\n",
        "ll1, =ax2.plot(df2['x'], yhat4, color='black', lw=1)\n",
        "ll2, =ax2.plot(df2['x'], yhat5, color='darkred', lw=1)\n",
        "ll3, =ax2.plot(df2['x'], yhat6, color='darkblue', lw=1)\n",
        "\n",
        "#axes parameters\n",
        "ax2.set_title('PC:PG(3:1)', fontsize = 18, weight='bold', pad=20)\n",
        "ax2.set_ylabel('Elipticidade x 10$^5$ (graus.cm$^2$/dmol)', fontsize=8, weight='bold')\n",
        "ax2.set_xlabel('Comprimento de onda (nm)', fontsize=8, weight='bold')\n",
        "ax2.set_xlim(190,260)\n",
        "ax2.set_xticklabels([190,200,210,220,230,240,250,260],fontsize=10,weight='bold')\n",
        "ax2.yaxis.set_major_locator(plt.MaxNLocator(8))\n",
        "ax2.set_yticklabels([-15,-10,-5,0,5,10,15,20],fontsize=10,weight='bold')\n",
        "\n",
        "ax2.legend([ll1, ll2, ll3],\n",
        "           ['curve 1', 'curve 2', 'curve 3'],\n",
        "           frameon=False,\n",
        "           ncol=1,\n",
        "           shadow=False,\n",
        "           borderpad=1,\n",
        "           fontsize=8)\n",
        "\n",
        "\n",
        "#############################################################################################\n",
        "#ax3 definitions\n",
        "#############################################################################################\n",
        "\n",
        "for axis in ['top', 'bottom', 'left', 'right']:\n",
        "  ax3.spines[axis].set_linewidth(2)\n",
        "\n",
        "ax3.axhline(linewidth=2, color='black')\n",
        "\n",
        "#smoothing aplication - Savitzky-Golay filter\n",
        "yhat7 = savgol_filter(df3['y0'], 51, 4)\n",
        "yhat8 = savgol_filter(df3['y1'], 51, 4)\n",
        "yhat9 = savgol_filter(df3['y2'], 51, 4)\n",
        "\n",
        "#axes X and Y data - in this example, three curves in each curve\n",
        "j1, =ax3.plot(df11['x'], yhat7, color='black', lw=1)\n",
        "j2, =ax3.plot(df11['x'], yhat8, color='darkred', lw=1)\n",
        "j3, =ax3.plot(df11['x'], yhat9, color='darkblue', lw=1)\n",
        "\n",
        "#axes parameters\n",
        "ax3.set_ylabel('Elipticidade x 10$^5$ (graus.cm$^2$/dmol)', fontsize=8, weight='bold')\n",
        "ax3.set_xlabel('Comprimento de onda (nm)', fontsize=8, weight='bold')\n",
        "ax3.set_xlim(190,260)\n",
        "ax3.set_xticklabels([190,200,210,220,230,240,250,260],fontsize=10,weight='bold')\n",
        "ax3.yaxis.set_major_locator(plt.MaxNLocator(8))\n",
        "ax3.set_yticklabels([-7.5,-5.0,-2.5,0,2.5,5.0,7.5,10.0],fontsize=10,weight='bold')\n",
        "ax3.legend([j1, j2, j3],\n",
        "           ['curve 1', 'curve 2', 'curve 3'],\n",
        "           frameon=False,\n",
        "           ncol=1,\n",
        "           shadow=False,\n",
        "           borderpad=1,\n",
        "           fontsize=8)\n",
        "\n",
        "#############################################################################################\n",
        "#ax4 definitions\n",
        "#############################################################################################\n",
        "\n",
        "for axis in ['top', 'bottom', 'left', 'right']:\n",
        "  ax4.spines[axis].set_linewidth(2)\n",
        "\n",
        "ax4.axhline(linewidth=2, color='black')\n",
        "\n",
        "#smoothing aplication - Savitzky-Golay filter\n",
        "yhat10 = savgol_filter(df4['y0'], 51, 4)\n",
        "yhat11 = savgol_filter(df4['y1'], 51, 4)\n",
        "yhat12 = savgol_filter(df4['y2'], 51, 4)\n",
        "\n",
        "#axes X and Y data - in this example, three curves in each curve\n",
        "jj1, =ax4.plot(df4['x'], yhat10, color='black', lw=1)\n",
        "jj2, =ax4.plot(df4['x'], yhat11, color='darkred', lw=1)\n",
        "jj3, =ax4.plot(df4['x'], yhat12, color='darkblue', lw=1)\n",
        "\n",
        "#axes parameters\n",
        "ax4.set_ylabel('Elipticidade x 10$^5$ (graus.cm$^2$/dmol)', fontsize=8, weight='bold')\n",
        "ax4.set_xlabel('Comprimento de onda (nm)', fontsize=8, weight='bold')\n",
        "ax4.set_xlim(190,260)\n",
        "ax4.set_xticklabels([190,200,210,220,230,240,250,260],fontsize=10,weight='bold')\n",
        "ax4.yaxis.set_major_locator(plt.MaxNLocator(7))\n",
        "ax4.set_yticklabels([-10,-5,0,5,10,15,20,25],fontsize=10,weight='bold')\n",
        "\n",
        "ax4.legend([jj1, jj2, jj3],\n",
        "           ['curve 1', 'curve 2', 'curve 3'],\n",
        "           frameon=False,\n",
        "           ncol=1,\n",
        "           shadow=False,\n",
        "           borderpad=1,\n",
        "           fontsize=8)\n",
        "\n",
        "#############################################################################################\n",
        "#Final Figures\n",
        "#############################################################################################\n",
        "\n",
        "#the coordinates and font size are encouraged to be exchanged. If necessary, add new topics;\n",
        "ax1.text(-0.3, 1.2, ' a)', transform=ax1.transAxes, fontsize=24, fontweight='bold', va='top')\n",
        "ax3.text(-0.3, 1.2, ' b)', transform=ax3.transAxes, fontsize=24, fontweight='bold', va='top')\n",
        "ax5.text(-0.3, 1.2, ' c)', transform=ax5.transAxes, fontsize=24, fontweight='bold', va='top')\n",
        "ax7.text(-0.3, 1.2, ' d)', transform=ax7.transAxes, fontsize=24, fontweight='bold', va='top')\n",
        "\n",
        "ax1.text(-0.25, 0.81, 'topic 1', transform=ax1.transAxes, fontsize=12, fontweight='bold', va='top', rotation=90)\n",
        "ax3.text(-0.25, 0.81, 'topic 2', transform=ax3.transAxes, fontsize=12, fontweight='bold', va='top', rotation=90)\n",
        "ax5.text(-0.25, 0.81, 'topic 3', transform=ax5.transAxes, fontsize=12, fontweight='bold', va='top', rotation=90)\n",
        "ax7.text(-0.25, 0.85, 'topic 4', transform=ax7.transAxes, fontsize=12, fontweight='bold', va='top', rotation=90)\n",
        "\n",
        "#saving the figures\n",
        "plt.tight_layout()\n",
        "root_dir = \"/content/drive/My Drive/\"\n",
        "\n",
        "#remove the # below and insert the path and figure names to export the figures\n",
        "#fig.savefig(root_dir+'path/to/new/figure.png')\n",
        "#fig.savefig(root_dir+'path/to/new/figure.tiff')\n",
        "#fig.savefig(root_dir+'path/to/new/figure.svg')"
      ],
      "metadata": {
        "id": "jry1HahOYQF5"
      },
      "execution_count": null,
      "outputs": []
    }
  ]
}