{
  "nbformat": 4,
  "nbformat_minor": 0,
  "metadata": {
    "colab": {
      "provenance": []
    },
    "kernelspec": {
      "name": "python3",
      "display_name": "Python 3"
    },
    "language_info": {
      "name": "python"
    }
  },
  "cells": [
    {
      "cell_type": "markdown",
      "source": [
        "# Plotting Circular Dichroism Data"
      ],
      "metadata": {
        "id": "V7NhIbNXkcFg"
      }
    },
    {
      "cell_type": "markdown",
      "source": [
        "## Prerequisites"
      ],
      "metadata": {
        "id": "lwmybuDokhd7"
      }
    },
    {
      "cell_type": "code",
      "execution_count": null,
      "metadata": {
        "id": "SEyeCE4fkURp"
      },
      "outputs": [],
      "source": [
        "import pandas as pd"
      ]
    },
    {
      "cell_type": "code",
      "source": [
        "# Necessary libraries\n",
        "import gspread\n",
        "from google.colab import auth\n",
        "from google.auth import default\n",
        "import pandas as pd"
      ],
      "metadata": {
        "id": "d9nk5Ms4kk2q"
      },
      "execution_count": null,
      "outputs": []
    },
    {
      "cell_type": "code",
      "source": [
        "# User authentication\n",
        "auth.authenticate_user()\n",
        "\n",
        "# Credentials\n",
        "creds, _ = default()\n",
        "gc = gspread.authorize(creds)"
      ],
      "metadata": {
        "id": "W0oVsBKCkmGq"
      },
      "execution_count": null,
      "outputs": []
    },
    {
      "cell_type": "code",
      "source": [
        "# Google Sheets file opening\n",
        "sheet_name = 'file_name'\n",
        "sheet = gc.open(sheet_name)\n",
        "\n",
        "# Pages opening inside the file\n",
        "page_name1 = 'page_name_01'\n",
        "page1 = sheet.worksheet(page_name1)\n",
        "page_name2 = 'page_name_02'\n",
        "page2 = sheet.worksheet(page_name2)"
      ],
      "metadata": {
        "id": "ks49pr82kttu"
      },
      "execution_count": null,
      "outputs": []
    },
    {
      "cell_type": "code",
      "source": [
        "# Obtaining pages values\n",
        "data1 = page1.get_all_values()\n",
        "data2 = page2.get_all_values()"
      ],
      "metadata": {
        "id": "Q9tYjFdKli40"
      },
      "execution_count": null,
      "outputs": []
    },
    {
      "cell_type": "code",
      "source": [
        "# Pandas dataframe creation\n",
        "df1 = pd.DataFrame(data1[1:], columns=data1[0])\n",
        "df2 = pd.DataFrame(data2[1:], columns=data2[0])"
      ],
      "metadata": {
        "id": "uWVywqpdltQu"
      },
      "execution_count": null,
      "outputs": []
    },
    {
      "cell_type": "code",
      "source": [
        "# Replace commas with dots in all columns (ONLY IF NECESSARY)\n",
        "df1 = df1.replace(',', '.', regex=True)\n",
        "df2 = df2.replace(',', '.', regex=True)"
      ],
      "metadata": {
        "id": "Cy__bUstlzq-"
      },
      "execution_count": null,
      "outputs": []
    },
    {
      "cell_type": "markdown",
      "source": [
        "## Baseline subtraction"
      ],
      "metadata": {
        "id": "o1oIPqi9l8rq"
      }
    },
    {
      "cell_type": "code",
      "source": [
        "# Convert all columns to numeric\n",
        "df1 = df1.apply(pd.to_numeric, errors='coerce')\n",
        "df2 = df2.apply(pd.to_numeric, errors='coerce')"
      ],
      "metadata": {
        "id": "qQTOhhi9l_m_"
      },
      "execution_count": null,
      "outputs": []
    },
    {
      "cell_type": "code",
      "source": [
        "# Subtract blank values from DF1\n",
        "df1['pep_buffer_pH40_w/o_blank'] = df1[\"pep_buffer_pH40\"] - df1['buffer_40']\n",
        "df1['pep_buffer_pH50_w/o_blank'] = df1[\"pep_buffer_pH50\"] - df1['buffer_50']"
      ],
      "metadata": {
        "id": "9WitkPmZmBHH"
      },
      "execution_count": null,
      "outputs": []
    },
    {
      "cell_type": "code",
      "source": [
        "# Subtract blank values from DF2\n",
        "df2['pep_buffer_pH40_w/o_blank'] = df2[\"pep_buffer_pH40\"] - df2['buffer_40']\n",
        "df2['pep_buffer_pH50_w/o_blank'] = df2[\"pep_buffer_pH50\"] - df2['buffer_50']"
      ],
      "metadata": {
        "id": "yXVGlx4QmJIc"
      },
      "execution_count": null,
      "outputs": []
    },
    {
      "cell_type": "markdown",
      "source": [
        "## Plotting"
      ],
      "metadata": {
        "id": "5NbtfFRMmTbC"
      }
    },
    {
      "cell_type": "code",
      "source": [
        "# Importing libraries\n",
        "import matplotlib.pyplot as plt\n",
        "import numpy as np\n",
        "import seaborn as sns\n",
        "import matplotlib as mpl"
      ],
      "metadata": {
        "id": "RLneyUgemWLn"
      },
      "execution_count": null,
      "outputs": []
    },
    {
      "cell_type": "code",
      "source": [
        "#Setting style\n",
        "plt.style.use('seaborn-ticks')\n",
        "\n",
        "# Savitzky-Golay filter\n",
        "from scipy.signal import savgol_filter\n",
        "\n",
        "#Setting subplots\n",
        "fig = plt.figure(figsize=(8,11), dpi=300)\n",
        "ax1 = plt.subplot2grid((1,2), (0,0))\n",
        "ax2 = plt.subplot2grid((1,2), (0,1))\n",
        "\n",
        "#############################################################################################\n",
        "#ax1 definitions\n",
        "#############################################################################################\n",
        "\n",
        "for axis in ['top', 'bottom', 'left', 'right']:\n",
        "  ax1.spines[axis].set_linewidth(1) #border size\n",
        "\n",
        "ax1.axhline(linewidth=1, color='black')\n",
        "\n",
        "#smoothing aplication - Savitzky-Golay filter\n",
        "yhat1 = savgol_filter(df1['pep_buffer_pH40_w/o_blank'], 51, 4)\n",
        "yhat2 = savgol_filter(df1['pep_buffer_pH50_w/o_blank'], 51, 4)\n",
        "\n",
        "#axes X and Y data\n",
        "cmap=plt.cm.viridis #viridis colormap is color-blind friendly\n",
        "l1, =ax1.plot(df1['Wavelength'], yhat1, lw=1, color=cmap(0.1))\n",
        "l2, =ax1.plot(df1['Wavelength'], yhat2, lw=1, color=cmap(0.3))\n",
        "\n",
        "#axes parameters\n",
        "ax1.set_title('Title 1', fontsize = 14, weight='normal', pad=20) #title\n",
        "ax1.set_ylabel('Elipticity x 10$^5$ (degrees.cm$^2$/dmol)', fontsize=8, weight='bold') #y label\n",
        "ax1.set_xlabel('Wavelength (nm)', fontsize=8, weight='bold') #x label\n",
        "ax1.set_xlim(190, 260) #x limits\n",
        "\n",
        "ax1.legend([l1, l2],\n",
        "           ['caption 1', 'caption 2'],\n",
        "           loc='upper right', #captions location\n",
        "           frameon=False,\n",
        "           ncol=1,\n",
        "           shadow=False,\n",
        "           borderpad=1,\n",
        "           fontsize=8)\n",
        "\n",
        "#############################################################################################\n",
        "#ax2 definitions\n",
        "#############################################################################################\n",
        "\n",
        "for axis in ['top', 'bottom', 'left', 'right']:\n",
        "  ax2.spines[axis].set_linewidth(1)\n",
        "\n",
        "ax2.axhline(linewidth=1, color='black')\n",
        "\n",
        "#smoothing aplication - Savitzky-Golay filter\n",
        "yhat3 = savgol_filter(df2['sds_pep_pH40_w/o_blank'], 51, 4)\n",
        "yhat4 = savgol_filter(df2['sds_pep_pH50_w/o_blank'], 51, 4)\n",
        "\n",
        "#axes X and Y data - in this example, three curves in each curve\n",
        "ll1, =ax2.plot(df2['Wavelength'], yhat3, lw=1, color=cmap(0.1))\n",
        "ll2, =ax2.plot(df2['Wavelength'], yhat4, lw=1, color=cmap(0.3))\n",
        "\n",
        "#axes parameters\n",
        "ax2.set_title('Title 2', fontsize = 14, weight='normal', pad=20)\n",
        "ax2.set_ylabel('Elipticity x 10$^5$ (degrees.cm$^2$/dmol)', fontsize=8, weight='bold')\n",
        "ax2.set_xlabel('Wavelength (nm)', fontsize=8, weight='bold')\n",
        "ax2.set_xlim(190,260)\n",
        "\n",
        "ax2.legend([ll1, ll2],\n",
        "           ['caption 1', 'caption 2'],\n",
        "           frameon=False,\n",
        "           ncol=1,\n",
        "           shadow=False,\n",
        "           borderpad=1,\n",
        "           fontsize=8)\n",
        "\n",
        "#############################################################################################\n",
        "#Final Figure\n",
        "#############################################################################################\n",
        "\n",
        "#the coordinates and font size are encouraged to be exchanged. If necessary, add new topics;\n",
        "ax1.text(-0.3, 1.2, ' a)', transform=ax1.transAxes, fontsize=18, va='top')\n",
        "ax2.text(-0.3, 1.2, ' b)', transform=ax2.transAxes, fontsize=18, va='top')\n",
        "\n",
        "#saving the figures\n",
        "plt.tight_layout()"
      ],
      "metadata": {
        "id": "BGEqF02Ambs7"
      },
      "execution_count": null,
      "outputs": []
    }
  ]
}