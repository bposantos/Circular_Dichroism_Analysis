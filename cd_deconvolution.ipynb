{
  "nbformat": 4,
  "nbformat_minor": 0,
  "metadata": {
    "colab": {
      "provenance": [],
      "authorship_tag": "ABX9TyOWYE7wZo8ajVyb6dwue3bW",
      "include_colab_link": true
    },
    "kernelspec": {
      "name": "python3",
      "display_name": "Python 3"
    },
    "language_info": {
      "name": "python"
    }
  },
  "cells": [
    {
      "cell_type": "markdown",
      "metadata": {
        "id": "view-in-github",
        "colab_type": "text"
      },
      "source": [
        "<a href=\"https://colab.research.google.com/github/bposantos/Circular_Dichroism_Analysis/blob/main/cd_deconvolution.ipynb\" target=\"_parent\"><img src=\"https://colab.research.google.com/assets/colab-badge.svg\" alt=\"Open In Colab\"/></a>"
      ]
    },
    {
      "cell_type": "markdown",
      "source": [
        "# CD Deconvolution"
      ],
      "metadata": {
        "id": "3YxaQVbOSFc2"
      }
    },
    {
      "cell_type": "markdown",
      "source": [
        "##Pre-processing"
      ],
      "metadata": {
        "id": "aijApFiJH1Yx"
      }
    },
    {
      "cell_type": "code",
      "execution_count": null,
      "metadata": {
        "id": "SEyeCE4fkURp"
      },
      "outputs": [],
      "source": [
        "import pandas as pd"
      ]
    },
    {
      "cell_type": "code",
      "source": [
        "# Necessary libraries\n",
        "import gspread\n",
        "from google.colab import auth\n",
        "from google.auth import default\n",
        "import pandas as pd"
      ],
      "metadata": {
        "id": "d9nk5Ms4kk2q"
      },
      "execution_count": null,
      "outputs": []
    },
    {
      "cell_type": "code",
      "source": [
        "# User authentication\n",
        "auth.authenticate_user()\n",
        "\n",
        "# Credentials\n",
        "creds, _ = default()\n",
        "gc = gspread.authorize(creds)"
      ],
      "metadata": {
        "id": "W0oVsBKCkmGq"
      },
      "execution_count": null,
      "outputs": []
    },
    {
      "cell_type": "code",
      "source": [
        "# Google Sheets file opening\n",
        "sheet_name = 'worksheet'\n",
        "sheet = gc.open(sheet_name)\n",
        "\n",
        "# Pages opening inside the file\n",
        "# Suggestion: put the content of each subplot in each page\n",
        "page_name1 = 'data_01'\n",
        "page1 = sheet.worksheet(page_name1)"
      ],
      "metadata": {
        "id": "lWKNKWMeHnc4"
      },
      "execution_count": null,
      "outputs": []
    },
    {
      "cell_type": "code",
      "source": [
        "# Obtaining pages values\n",
        "data1 = page1.get_all_values()"
      ],
      "metadata": {
        "id": "MJTTyVOqHvpZ"
      },
      "execution_count": null,
      "outputs": []
    },
    {
      "cell_type": "code",
      "source": [
        "# Pandas dataframe creation\n",
        "df1 = pd.DataFrame(data1[1:], columns=data1[0])"
      ],
      "metadata": {
        "id": "Ru2iB22lHx4w"
      },
      "execution_count": null,
      "outputs": []
    },
    {
      "cell_type": "code",
      "source": [
        "# Replace commas with dots in all columns (ONLY IF NECESSARY)\n",
        "df1 = df1.replace(',', '.', regex=True)"
      ],
      "metadata": {
        "id": "QqPQnLA3Hy1Y"
      },
      "execution_count": null,
      "outputs": []
    },
    {
      "cell_type": "markdown",
      "source": [
        "## Deconvolution"
      ],
      "metadata": {
        "id": "8Y614LI6H5Ek"
      }
    },
    {
      "cell_type": "code",
      "source": [
        "#convert string to float\n",
        "df1 = df1.apply(pd.to_numeric, errors='coerce')"
      ],
      "metadata": {
        "id": "XWip9TGxH-e_"
      },
      "execution_count": null,
      "outputs": []
    },
    {
      "cell_type": "code",
      "source": [
        "#############################################################################################################################################\n",
        "#Protein Information\n",
        "#############################################################################################################################################\n",
        "\n",
        "#molecular weight in daltons\n",
        "molecular_weight = 1000 #change according to the molecular weight\n",
        "\n",
        "#number of residues\n",
        "aa = 13 #change according to the number of amino acids\n",
        "\n",
        "#cuvette path length in mm\n",
        "path_length = 0.1 #change according to the path length\n",
        "\n",
        "#Molarity in micromolar\n",
        "molarity = 100 #change according to the molarity of the sample"
      ],
      "metadata": {
        "id": "vXKYUzNPKUiJ"
      },
      "execution_count": null,
      "outputs": []
    },
    {
      "cell_type": "code",
      "source": [
        "#applying the ellipticity function\n",
        "def multiply(x,y):\n",
        "\treturn round(x*y,3)"
      ],
      "metadata": {
        "id": "jvuW4LAdNYwj"
      },
      "execution_count": null,
      "outputs": []
    },
    {
      "cell_type": "code",
      "source": [
        "#The mean residue weight of a peptide is the molecular weight divided by the number of backbone amides (number of amino acids -1 if the protein is not acetylated). It is ~ 115 for most proteins if the molecular weight of the sample is not known.\n",
        "mean_residue_weight = (molecular_weight/aa-1)\n",
        "\n",
        "#concentration in mg/ml is molarity (M) x Molecular Weight (Da)\n",
        "concentration = round(molarity*molecular_weight*0.000001,3)\n",
        "\n",
        "#Ellipticity, [θ], in deg. · cm2/dmol = (millidegrees times mean residue weight) / (path length in mm times concentration in mg/ml)Norma J. Greenfield Nat Protoc. 2006\n",
        "ellipticity=round(mean_residue_weight/(path_length*concentration),2)\n",
        "\n",
        "# Apply the multiplication to all columns except 'Wavelength'\n",
        "df1.loc[:, df1.columns != 'Wavelength'] = df1.loc[:, df1.columns != 'Wavelength'].applymap(lambda x: multiply(x, ellipticity))\n"
      ],
      "metadata": {
        "id": "Nmv3yuINKJw5"
      },
      "execution_count": null,
      "outputs": []
    },
    {
      "cell_type": "code",
      "source": [
        "#Create a new page to insert the deconvoluted data\n",
        "page_01 = sheet.add_worksheet(title='worksheet_deconv',rows=df1.shape[0]+1, cols=df1.shape[1])"
      ],
      "metadata": {
        "id": "3nfs0AlXPq5c"
      },
      "execution_count": null,
      "outputs": []
    },
    {
      "cell_type": "code",
      "source": [
        "#Update the new page with the deconvoluted data\n",
        "data = [df1.columns.values.tolist()] + df1.values.tolist()\n",
        "page_01.update('A1', data)"
      ],
      "metadata": {
        "id": "pbqydX8USpEG"
      },
      "execution_count": null,
      "outputs": []
    }
  ]
}